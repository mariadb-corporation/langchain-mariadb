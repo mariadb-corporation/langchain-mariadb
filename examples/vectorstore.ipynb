{
 "cells": [
  {
   "cell_type": "markdown",
   "metadata": {},
   "source": [
    "# Vectorstore\n",
    "\n",
    "This is an implementation of a LangChain vectorstore using `mariadb` as the backend.\n",
    "\n",
    "MariaDB requires version 11.7.1 or later for vector support.\n",
    "\n",
    "You can run the following command to spin up a MariaDB container:\n",
    "\n",
    "```shell\n",
    "docker run --name mariadb-container -e MARIADB_ROOT_PASSWORD=langchain -e MARIADB_DATABASE=langchain -p 3306:3306 -d mariadb:11.7-rc\n",
    "```\n",
    "\n",
    "## Status\n",
    "\n",
    "This code provides a MariaDB vectorstore implementation with the following features:\n",
    "\n",
    "* Uses MariaDB's native vector similarity search capabilities\n",
    "* Supports both cosine and euclidean distance metrics\n",
    "* Provides comprehensive metadata filtering\n",
    "* Uses connection pooling for better performance\n",
    "* Supports custom table and column configurations\n",
    "\n",
    "Currently, there is **no mechanism** that supports easy data migration on schema changes. So any schema changes in the vectorstore will require the user to recreate the tables and re-add the documents."
   ]
  },
  {
   "cell_type": "markdown",
   "metadata": {},
   "source": [
    "## Install dependencies"
   ]
  },
  {
   "cell_type": "code",
   "execution_count": 1,
   "metadata": {},
   "outputs": [],
   "source": [
    "## install c/c connector\n",
    "# on ubuntu\n",
    "sudo apt install libmariadb3 libmariadb-dev\n",
    "# on CentOS, RHEL, Rocky Linux\n",
    "sudo yum install MariaDB-shared MariaDB-devel\n",
    "!pip install --quiet -U langchain_openai mariadb"
   ]
  },
  {
   "cell_type": "markdown",
   "metadata": {},
   "source": [
    "## Initialize the vectorstore"
   ]
  },
  {
   "cell_type": "code",
   "execution_count": 2,
   "metadata": {},
   "outputs": [],
   "source": [
    "from langchain_openai import OpenAIEmbeddings\n",
    "from langchain_mariadb import MariaDBStore\n",
    "from langchain_core.documents import Document\n",
    "import mariadb\n",
    "\n",
    "# Create a connection pool\n",
    "pool = mariadb.ConnectionPool(\n",
    "    pool_name=\"mypool\",\n",
    "    pool_size=3,\n",
    "    host=\"localhost\",\n",
    "    port=3306,\n",
    "    user=\"langchain\",\n",
    "    password=\"langchain\",\n",
    "    database=\"langchain\"\n",
    ")\n",
    "\n",
    "# Create a new vector store\n",
    "vectorstore = MariaDBStore(\n",
    "    embeddings=OpenAIEmbeddings(),\n",
    "    embedding_length=1536,\n",
    "    pool=pool,\n",
    "    collection_name=\"my_docs\"\n",
    ")"
   ]
  },
  {
   "cell_type": "markdown",
   "metadata": {},
   "source": [
    "## Drop tables\n",
    "\n",
    "If you need to drop tables (e.g., updating the embedding to a different dimension or just updating the embedding provider): "
   ]
  },
  {
   "cell_type": "markdown",
   "metadata": {},
   "source": [
    "```python\n",
    "vectorstore.drop_tables()\n",
    "```"
   ]
  },
  {
   "cell_type": "markdown",
   "metadata": {},
   "source": [
    "## Add documents\n",
    "\n",
    "Add documents to the vectorstore"
   ]
  },
  {
   "cell_type": "code",
   "execution_count": 5,
   "metadata": {},
   "outputs": [],
   "source": [
    "docs = [\n",
    "    Document(page_content='there are cats in the pond', metadata={\"id\": 1, \"location\": \"pond\", \"topic\": \"animals\"}),\n",
    "    Document(page_content='ducks are also found in the pond', metadata={\"id\": 2, \"location\": \"pond\", \"topic\": \"animals\"}),\n",
    "    Document(page_content='fresh apples are available at the market', metadata={\"id\": 3, \"location\": \"market\", \"topic\": \"food\"}),\n",
    "    Document(page_content='the market also sells fresh oranges', metadata={\"id\": 4, \"location\": \"market\", \"topic\": \"food\"}),\n",
    "    Document(page_content='the new art exhibit is fascinating', metadata={\"id\": 5, \"location\": \"museum\", \"topic\": \"art\"}),\n",
    "]\n",
    "vectorstore.add_documents(docs)\n"
   ]
  },
  {
   "cell_type": "markdown",
   "metadata": {},
   "source": [
    "## Add from text \n",
    "\n",
    "create embedding from text to the vectorstore"
   ]
  },
  {
   "cell_type": "code",
   "execution_count": 6,
   "metadata": {},
   "outputs": [],
   "source": [
    "texts = [\n",
    "    'a sculpture exhibit is also at the museum',\n",
    "    'a new coffee shop opened on Main Street',\n",
    "    'the book club meets at the library',\n",
    "    'the library hosts a weekly story time for kids',\n",
    "    'a cooking class for beginners is offered at the community center'\n",
    "]\n",
    "\n",
    "# metadata are optionnals\n",
    "metadatas = [\n",
    "    {\"id\": 6, \"location\": \"museum\", \"topic\": \"art\"},\n",
    "    {\"id\": 7, \"location\": \"Main Street\", \"topic\": \"food\"},\n",
    "    {\"id\": 8, \"location\": \"library\", \"topic\": \"reading\"},\n",
    "    {\"id\": 9, \"location\": \"library\", \"topic\": \"reading\"},\n",
    "    {\"id\": 10, \"location\": \"community center\", \"topic\": \"classes\"}\n",
    "]\n",
    "\n",
    "vectorstore.add_texts(texts=texts, metadatas=metadatas)\n"
   ]
  },
  {
   "cell_type": "markdown",
   "metadata": {},
   "source": [
    "## Searching similarity \n",
    "\n",
    "search using the vectorstore"
   ]
  },
  {
   "cell_type": "code",
   "execution_count": 6,
   "metadata": {},
   "outputs": [],
   "source": [
    "# Search similar texts\n",
    "results = vectorstore.similarity_search(\"Hello\", k=2)\n",
    "\n",
    "# Search with metadata filter\n",
    "results = vectorstore.similarity_search(\n",
    "    \"Hello\",\n",
    "    filter={\"category\": \"greeting\"}\n",
    ")\n"
   ]
  },
  {
   "cell_type": "markdown",
   "metadata": {},
   "source": [
    "## Filtering Support\n",
    "\n",
    "The vectorstore supports a set of filters that can be applied against the metadata fields of the documents.\n",
    "\n",
    "| Operator  | Meaning/Category        |\n",
    "|-----------|-------------------------|\n",
    "| \\$eq      | Equality (==)           |\n",
    "| \\$ne      | Inequality (!=)         |\n",
    "| \\$lt      | Less than (<)           |\n",
    "| \\$lte     | Less than or equal (<=) |\n",
    "| \\$gt      | Greater than (>)        |\n",
    "| \\$gte     | Greater than or equal (>=) |\n",
    "| \\$in      | Special Cased (in)      |\n",
    "| \\$nin     | Special Cased (not in)  |\n",
    "| \\$like    | Text (like)             |\n",
    "| \\$nlike   | Text (not like)         |\n",
    "| \\$and     | Logical (and)           |\n",
    "| \\$or      | Logical (or)            |\n",
    "| \\$not     | Logical (not)           |"
   ]
  },
  {
   "cell_type": "code",
   "execution_count": 7,
   "metadata": {},
   "outputs": [],
   "source": [
    "# Search with simple filter\n",
    "results = vectorstore.similarity_search('kitty', k=10, filter={\n",
    "    'id': {'$in': [1, 5, 2, 9]}\n",
    "})"
   ]
  },
  {
   "cell_type": "code",
   "execution_count": 8,
   "metadata": {},
   "outputs": [],
   "source": [
    "# Search with multiple conditions (AND)\n",
    "results = vectorstore.similarity_search('ducks', k=10, filter={\n",
    "    'id': {'$in': [1, 5, 2, 9]},\n",
    "    'location': {'$in': [\"pond\", \"market\"]}\n",
    "})"
   ]
  },
  {
   "cell_type": "code",
   "execution_count": 9,
   "metadata": {},
   "outputs": [],
   "source": [
    "# Search with explicit AND operator\n",
    "results = vectorstore.similarity_search('ducks', k=10, filter={\n",
    "    '$and': [\n",
    "        {'id': {'$in': [1, 5, 2, 9]}},\n",
    "        {'location': {'$in': [\"pond\", \"market\"]}},\n",
    "    ]\n",
    "})"
   ]
  },
  {
   "cell_type": "code",
   "execution_count": 10,
   "metadata": {},
   "outputs": [],
   "source": [
    "# Search with NOT operator\n",
    "results = vectorstore.similarity_search('bird', k=10, filter={\n",
    "    'location': { \"$ne\": 'pond'}\n",
    "})"
   ]
  },
  {
   "cell_type": "code",
   "execution_count": 11,
   "metadata": {},
   "outputs": [],
   "source": [
    "# Search with complex filter\n",
    "results = vectorstore.similarity_search('animal', k=10, filter={\n",
    "    '$or': [\n",
    "        {'topic': 'animals'},\n",
    "        {'$and': [\n",
    "            {'location': {'$like': '%park%'}},\n",
    "            {'topic': {'$ne': 'art'}}\n",
    "        ]}\n",
    "    ]\n",
    "})"
   ]
  }
 ],
 "metadata": {
  "kernelspec": {
   "display_name": "Python 3",
   "language": "python",
   "name": "python3"
  }
 },
 "nbformat": 4,
 "nbformat_minor": 5
}
